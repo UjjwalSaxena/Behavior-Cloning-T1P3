{
 "cells": [
  {
   "cell_type": "code",
   "execution_count": 1,
   "metadata": {
    "colab": {
     "autoexec": {
      "startup": false,
      "wait_interval": 0
     }
    },
    "colab_type": "code",
    "id": "4jobnNgeZ4tq"
   },
   "outputs": [
    {
     "name": "stderr",
     "output_type": "stream",
     "text": [
      "Using TensorFlow backend.\n"
     ]
    },
    {
     "name": "stdout",
     "output_type": "stream",
     "text": [
      "Done\n"
     ]
    }
   ],
   "source": [
    "# import tensorflow as tf\n",
    "# tf.python.control_flow_ops = tf\n",
    "\n",
    "from keras.models import Sequential, model_from_json, load_model\n",
    "from keras.optimizers import *\n",
    "from keras import optimizers\n",
    "from keras.layers import Dense, Activation, Flatten, Dropout, Lambda, Cropping2D, ELU,  MaxPooling2D\n",
    "from keras.layers.convolutional import Convolution2D\n",
    "from keras.layers.core import Lambda\n",
    "#from keras.layers.pooling import MaxPooling2D\n",
    "#from keras.callbacks import EarlyStopping\n",
    "\n",
    "from scipy.misc import imread, imsave\n",
    "from sklearn.model_selection import train_test_split\n",
    "from sklearn.utils import shuffle\n",
    "import pandas as pd\n",
    "import numpy as np\n",
    "import random\n",
    "import csv\n",
    "import cv2\n",
    "print('Done')"
   ]
  },
  {
   "cell_type": "code",
   "execution_count": 2,
   "metadata": {
    "colab": {
     "autoexec": {
      "startup": false,
      "wait_interval": 0
     },
     "base_uri": "https://localhost:8080/",
     "height": 34,
     "output_extras": [
      {
       "item_id": 1
      }
     ]
    },
    "colab_type": "code",
    "executionInfo": {
     "elapsed": 5365,
     "status": "ok",
     "timestamp": 1519551447303,
     "user": {
      "displayName": "ujjwal saxena",
      "photoUrl": "//lh4.googleusercontent.com/-uTrspe20n5E/AAAAAAAAAAI/AAAAAAAAABI/i8nO815x40Q/s50-c-k-no/photo.jpg",
      "userId": "117028455731956170763"
     },
     "user_tz": -330
    },
    "id": "IlFQJHcyUcZm",
    "outputId": "dc63941d-ca8c-4866-b2d5-065776b2969f"
   },
   "outputs": [
    {
     "name": "stdout",
     "output_type": "stream",
     "text": [
      "E: Could not open lock file /var/lib/dpkg/lock - open (13: Permission denied)\n",
      "E: Unable to lock the administration directory (/var/lib/dpkg/), are you root?\n",
      "Done\n"
     ]
    }
   ],
   "source": [
    "!pip install -q keras\n",
    "!apt-get -qq install -y libsm6 libxext6 && pip install -q -U opencv-python\n",
    "print('Done')"
   ]
  },
  {
   "cell_type": "code",
   "execution_count": 4,
   "metadata": {
    "colab": {
     "autoexec": {
      "startup": false,
      "wait_interval": 0
     },
     "base_uri": "https://localhost:8080/",
     "height": 51,
     "output_extras": [
      {
       "item_id": 1
      }
     ]
    },
    "colab_type": "code",
    "executionInfo": {
     "elapsed": 1251,
     "status": "ok",
     "timestamp": 1519560674434,
     "user": {
      "displayName": "ujjwal saxena",
      "photoUrl": "//lh4.googleusercontent.com/-uTrspe20n5E/AAAAAAAAAAI/AAAAAAAAABI/i8nO815x40Q/s50-c-k-no/photo.jpg",
      "userId": "117028455731956170763"
     },
     "user_tz": -330
    },
    "id": "IH4V8wytTBEd",
    "outputId": "da18b535-4339-4792-f2c5-50745fde167b"
   },
   "outputs": [
    {
     "name": "stdout",
     "output_type": "stream",
     "text": [
      "All the files are downloaded\n"
     ]
    }
   ],
   "source": [
    "from urllib.request import urlretrieve\n",
    "import os\n",
    "import numpy as np\n",
    "from sklearn.preprocessing import LabelBinarizer\n",
    "#from tqdm import tqdm\n",
    "from zipfile import ZipFile\n",
    "\n",
    "def download(url, file):\n",
    "    if not os.path.isfile(file):\n",
    "        print(\"Download file... \" + file + \" ...\")\n",
    "        urlretrieve(url,file)\n",
    "        print(\"File downloaded\")\n",
    "\n",
    "download('https://d17h27t6h515a5.cloudfront.net/topher/2016/December/584f6edd_data/data.zip','data.zip')\n",
    "#download('https://github.com/UjjwalSaxena/Behavior-Cloning-DataSet-Ujjwal/raw/master/data1.zip','data1.zip')\n",
    "\n",
    "\n",
    "print(\"All the files are downloaded\")\n",
    "\n",
    "\n",
    "def uncompress_features_labels(dir,name):\n",
    "    if(os.path.isdir(name)):\n",
    "        print('Data extracted:'+name)\n",
    "    else:\n",
    "        with ZipFile(dir) as zipf:\n",
    "            zipf.extractall(name)\n",
    "# uncompress_features_labels('data.zip','data')\n",
    "#uncompress_features_labels('data1.zip','data1')"
   ]
  },
  {
   "cell_type": "code",
   "execution_count": 54,
   "metadata": {},
   "outputs": [
    {
     "name": "stdout",
     "output_type": "stream",
     "text": [
      "driving_log.csv  IMG\r\n"
     ]
    }
   ],
   "source": [
    "!ls data1/data1\n",
    "\n",
    "\n",
    "\n",
    "\n"
   ]
  },
  {
   "cell_type": "code",
   "execution_count": 5,
   "metadata": {
    "colab": {
     "autoexec": {
      "startup": false,
      "wait_interval": 0
     },
     "base_uri": "https://localhost:8080/",
     "height": 68,
     "output_extras": [
      {
       "item_id": 1
      }
     ]
    },
    "colab_type": "code",
    "executionInfo": {
     "elapsed": 1127,
     "status": "ok",
     "timestamp": 1519560719462,
     "user": {
      "displayName": "ujjwal saxena",
      "photoUrl": "//lh4.googleusercontent.com/-uTrspe20n5E/AAAAAAAAAAI/AAAAAAAAABI/i8nO815x40Q/s50-c-k-no/photo.jpg",
      "userId": "117028455731956170763"
     },
     "user_tz": -330
    },
    "id": "D4_hlZ8SnnXt",
    "outputId": "f75ee054-03cc-461e-de52-5fdb9bd3c666"
   },
   "outputs": [
    {
     "name": "stdout",
     "output_type": "stream",
     "text": [
      "Data extracted:data\n",
      "8037\n",
      "Data extracted:data1\n",
      "1980\n",
      "Data extracted:data2\n",
      "4326\n",
      "Data extracted:data3\n",
      "829\n",
      "Data extracted:data4\n",
      "154\n",
      "Data extracted:data5\n",
      "559\n",
      "Data extracted:data6\n",
      "420\n",
      "Done\n",
      "13853\n",
      "2445\n"
     ]
    }
   ],
   "source": [
    "BATCH_SIZE = 64\n",
    "NUMBER_OF_EPOCHS = 4\n",
    "correction=0.1\n",
    "PATH = [\"data/data/\",\"data1/data1/\",\"data2/data2/\",\"data3/data3/\",\"data4/data4/\",\"data5/data5/\",\"data6/data6/\"]\n",
    "FileName=[\"data\",\"data1\",\"data2\",\"data3\",\"data4\",\"data5\",\"data6\"]\n",
    "CSV_FILE = \"driving_log.csv\"\n",
    "\n",
    "DATA=[]\n",
    "for index in range(0,len(PATH)):\n",
    "    uncompress_features_labels(FileName[index]+'.zip',FileName[index])\n",
    "    with open(PATH[index] + CSV_FILE) as csvfile:\n",
    "        reader = csv.reader(csvfile)\n",
    "        cntr = 0\n",
    "        co=0\n",
    "        for line in reader:\n",
    "            co+=1\n",
    "            if (cntr == 0):\n",
    "                cntr += 1\n",
    "                continue\n",
    "            line[0]= PATH[index]+'IMG/'+line[0].split('/')[-1].split('\\\\')[-1]\n",
    "            line[1]= PATH[index]+'IMG/'+line[1].split('/')[-1].split('\\\\')[-1]\n",
    "            line[2]= PATH[index]+'IMG/'+line[2].split('/')[-1].split('\\\\')[-1]\n",
    "            DATA.append(line)\n",
    "        print(co)\n",
    "\n",
    "TRAINING_DATA, VALIDATION_DATA = train_test_split(DATA, test_size = 0.15)\n",
    "\n",
    "\n",
    "TOTAL_TRAIN_DATA = len(TRAINING_DATA)\n",
    "TOTAL_VALID_DATA = len(VALIDATION_DATA)\n",
    "print('Done')\n",
    "print (TOTAL_TRAIN_DATA)\n",
    "print(TOTAL_VALID_DATA)"
   ]
  },
  {
   "cell_type": "code",
   "execution_count": 6,
   "metadata": {
    "colab": {
     "autoexec": {
      "startup": false,
      "wait_interval": 0
     }
    },
    "colab_type": "code",
    "collapsed": true,
    "id": "dTrmTJrSZ6JJ"
   },
   "outputs": [],
   "source": [
    "def flipped(image, measurement):\n",
    "    return np.fliplr(image), -measurement\n",
    "\n",
    "def random_distort(img, angle):\n",
    "    ''' \n",
    "    method for adding random distortion to dataset images, including random brightness adjust, and a random\n",
    "    vertical shift of the horizon position\n",
    "    '''\n",
    "#     imgs=[]\n",
    "#     msr=[]\n",
    "    new_img = img.astype(float)\n",
    "    # random brightness - the mask bit keeps values from going beyond (0,255)\n",
    "    value = np.random.randint(-30, 30)\n",
    "    if value > 0:\n",
    "        mask = (new_img[:,:,0] + value) > 255 \n",
    "    if value <= 0:\n",
    "        mask = (new_img[:,:,0] + value) < 0\n",
    "    new_img[:,:,0] += np.where(mask, 0, value)\n",
    "    \n",
    "#     imgs.append(new_img)\n",
    "#     msr.append(angle)\n",
    "    \n",
    "    # random shadow - full height, random left/right side, random darkening\n",
    "    \n",
    "    h,w = new_img.shape[0:2]\n",
    "    mid = np.random.randint(0,w)\n",
    "    factor = np.random.uniform(0.6,0.8)\n",
    "    if np.random.rand() > .5:\n",
    "        new_img[:,0:mid,0] *= factor\n",
    "    else:\n",
    "        new_img[:,mid:w,0] *= factor\n",
    "    \n",
    "#     imgs.append(new_img)\n",
    "#     msr.append(angle)\n",
    "    \n",
    "    # randomly shift horizon\n",
    "    \n",
    "    h,w,_ = new_img.shape\n",
    "    horizon = 2*h/5\n",
    "    v_shift = np.random.randint(-h/8,h/8)\n",
    "    pts1 = np.float32([[0,horizon],[w,horizon],[0,h],[w,h]])\n",
    "    pts2 = np.float32([[0,horizon+v_shift],[w,horizon+v_shift],[0,h],[w,h]])\n",
    "    M = cv2.getPerspectiveTransform(pts1,pts2)\n",
    "    new_img = cv2.warpPerspective(new_img,M,(w,h), borderMode=cv2.BORDER_REPLICATE)\n",
    "    \n",
    "#     imgs.append(new_img)\n",
    "#     msr.append(angle)\n",
    "    \n",
    "    return (new_img, angle)"
   ]
  },
  {
   "cell_type": "code",
   "execution_count": 7,
   "metadata": {
    "colab": {
     "autoexec": {
      "startup": false,
      "wait_interval": 0
     },
     "base_uri": "https://localhost:8080/",
     "height": 34,
     "output_extras": [
      {
       "item_id": 1
      }
     ]
    },
    "colab_type": "code",
    "executionInfo": {
     "elapsed": 1133,
     "status": "ok",
     "timestamp": 1519560726743,
     "user": {
      "displayName": "ujjwal saxena",
      "photoUrl": "//lh4.googleusercontent.com/-uTrspe20n5E/AAAAAAAAAAI/AAAAAAAAABI/i8nO815x40Q/s50-c-k-no/photo.jpg",
      "userId": "117028455731956170763"
     },
     "user_tz": -330
    },
    "id": "mSVMQQUFaA_o",
    "outputId": "462d0d6d-0729-41e4-b6a5-47b02801f3d9"
   },
   "outputs": [
    {
     "name": "stdout",
     "output_type": "stream",
     "text": [
      "Done\n"
     ]
    }
   ],
   "source": [
    "def get_image(data):\n",
    "  \n",
    "    center_image = cv2.GaussianBlur(cv2.cvtColor(cv2.imread(data[0]), cv2.COLOR_BGR2RGB), (3,3), 0)\n",
    "    left_image = cv2.GaussianBlur(cv2.cvtColor(cv2.imread(data[1]), cv2.COLOR_BGR2RGB), (3,3), 0)\n",
    "    right_image = cv2.GaussianBlur(cv2.cvtColor(cv2.imread(data[2]), cv2.COLOR_BGR2RGB), (3,3), 0)\n",
    "\n",
    "    images_arr=[center_image,left_image,right_image]\n",
    "    correction_arr=[0, correction, -correction]\n",
    "    # scale to 66x200x3 (same as nVidia)\n",
    "    #new_img = cv2.resize(new_img,(200, 66), interpolation = cv2.INTER_AREA)\n",
    "    images=[]\n",
    "    measurements=[]\n",
    "    for index in range(0,len(images_arr)):\n",
    "        \n",
    "        r= np.random.rand()\n",
    "        steering_angle= float(data[3])+ correction_arr[index]\n",
    "        \n",
    "        images.append(images_arr[index])\n",
    "        measurements.append(steering_angle)\n",
    "#         if(r>0.5):\n",
    "#             di, dm= random_distort(images_arr[index], steering_angle)\n",
    "#             images.append(di)\n",
    "#             measurements.append(dm)\n",
    "        \n",
    "#         if(steering_angle>=0.1):\n",
    "        fi, fm= flipped(images_arr[index], steering_angle)\n",
    "        images.append(fi)\n",
    "        measurements.append(fm)\n",
    "            \n",
    "#         elif(r>0.33):\n",
    "#             di, dm= random_distort(images_arr[index], steering_angle)\n",
    "#             images.append(di)\n",
    "#             measurements.append(dm)\n",
    "#             if(r>0.66):\n",
    "#                 di, dm= random_distort(fi, fm)\n",
    "#                 images.append(di)\n",
    "#                 measurements.append(dm)\n",
    "        \n",
    "    return images, measurements\n",
    "print('Done')"
   ]
  },
  {
   "cell_type": "code",
   "execution_count": 8,
   "metadata": {
    "colab": {
     "autoexec": {
      "startup": false,
      "wait_interval": 0
     },
     "base_uri": "https://localhost:8080/",
     "height": 34,
     "output_extras": [
      {
       "item_id": 1
      }
     ]
    },
    "colab_type": "code",
    "collapsed": true,
    "executionInfo": {
     "elapsed": 1150,
     "status": "ok",
     "timestamp": 1519560730335,
     "user": {
      "displayName": "ujjwal saxena",
      "photoUrl": "//lh4.googleusercontent.com/-uTrspe20n5E/AAAAAAAAAAI/AAAAAAAAABI/i8nO815x40Q/s50-c-k-no/photo.jpg",
      "userId": "117028455731956170763"
     },
     "user_tz": -330
    },
    "id": "qsx92REbaIUo",
    "outputId": "92db95d3-8334-4743-94dd-4c5d7c5ae25b"
   },
   "outputs": [],
   "source": [
    "def generate_samples(data, batch_size):\n",
    "    shuffle(data)\n",
    "    while True:\n",
    "        SIZE = len(data)\n",
    "        for start in range(0, SIZE, batch_size):\n",
    "            images, measurements = [], []\n",
    "            for this_id in range(start, start + batch_size): \n",
    "                if this_id < SIZE:\n",
    "                    image, measurement = get_image(data[this_id])\n",
    "                    measurements+=measurement\n",
    "                    images+=image\n",
    "            #print(len(images))\n",
    "            yield shuffle(np.array(images), np.array(measurements))\n",
    "\n"
   ]
  },
  {
   "cell_type": "code",
   "execution_count": 9,
   "metadata": {
    "colab": {
     "autoexec": {
      "startup": false,
      "wait_interval": 0
     },
     "base_uri": "https://localhost:8080/",
     "height": 836,
     "output_extras": [
      {
       "item_id": 1
      },
      {
       "item_id": 2
      }
     ]
    },
    "colab_type": "code",
    "executionInfo": {
     "elapsed": 1178,
     "status": "ok",
     "timestamp": 1519560734435,
     "user": {
      "displayName": "ujjwal saxena",
      "photoUrl": "//lh4.googleusercontent.com/-uTrspe20n5E/AAAAAAAAAAI/AAAAAAAAABI/i8nO815x40Q/s50-c-k-no/photo.jpg",
      "userId": "117028455731956170763"
     },
     "user_tz": -330
    },
    "id": "-tI-LwIPaJ0q",
    "outputId": "34ed79d1-70e0-4d47-fe96-c300193cffa4"
   },
   "outputs": [
    {
     "name": "stdout",
     "output_type": "stream",
     "text": [
      "____________________________________________________________________________________________________\n",
      "Layer (type)                     Output Shape          Param #     Connected to                     \n",
      "====================================================================================================\n",
      "cropping2d_1 (Cropping2D)        (None, 70, 320, 3)    0           cropping2d_input_1[0][0]         \n",
      "____________________________________________________________________________________________________\n",
      "lambda_1 (Lambda)                (None, 70, 320, 3)    0           cropping2d_1[0][0]               \n",
      "____________________________________________________________________________________________________\n",
      "convolution2d_1 (Convolution2D)  (None, 35, 160, 24)   1824        lambda_1[0][0]                   \n",
      "____________________________________________________________________________________________________\n",
      "maxpooling2d_1 (MaxPooling2D)    (None, 17, 80, 24)    0           convolution2d_1[0][0]            \n",
      "____________________________________________________________________________________________________\n",
      "convolution2d_2 (Convolution2D)  (None, 9, 40, 36)     21636       maxpooling2d_1[0][0]             \n",
      "____________________________________________________________________________________________________\n",
      "maxpooling2d_2 (MaxPooling2D)    (None, 4, 20, 36)     0           convolution2d_2[0][0]            \n",
      "____________________________________________________________________________________________________\n",
      "convolution2d_3 (Convolution2D)  (None, 2, 10, 48)     43248       maxpooling2d_2[0][0]             \n",
      "____________________________________________________________________________________________________\n",
      "maxpooling2d_3 (MaxPooling2D)    (None, 1, 5, 48)      0           convolution2d_3[0][0]            \n",
      "____________________________________________________________________________________________________\n",
      "convolution2d_4 (Convolution2D)  (None, 1, 5, 64)      27712       maxpooling2d_3[0][0]             \n",
      "____________________________________________________________________________________________________\n",
      "convolution2d_5 (Convolution2D)  (None, 1, 5, 64)      36928       convolution2d_4[0][0]            \n",
      "____________________________________________________________________________________________________\n",
      "dropout_1 (Dropout)              (None, 1, 5, 64)      0           convolution2d_5[0][0]            \n",
      "____________________________________________________________________________________________________\n",
      "flatten_1 (Flatten)              (None, 320)           0           dropout_1[0][0]                  \n",
      "____________________________________________________________________________________________________\n",
      "dense_1 (Dense)                  (None, 100)           32100       flatten_1[0][0]                  \n",
      "____________________________________________________________________________________________________\n",
      "dense_2 (Dense)                  (None, 50)            5050        dense_1[0][0]                    \n",
      "____________________________________________________________________________________________________\n",
      "dense_3 (Dense)                  (None, 10)            510         dense_2[0][0]                    \n",
      "____________________________________________________________________________________________________\n",
      "dense_4 (Dense)                  (None, 1)             11          dense_3[0][0]                    \n",
      "====================================================================================================\n",
      "Total params: 169,019\n",
      "Trainable params: 169,019\n",
      "Non-trainable params: 0\n",
      "____________________________________________________________________________________________________\n"
     ]
    }
   ],
   "source": [
    "model = Sequential()\n",
    "\n",
    "model.add(Cropping2D(cropping=((70,20),(0,0)), input_shape=(160,320,3)))\n",
    "model.add(Lambda(lambda x: (x/127.5)-1))\n",
    "model.add(Convolution2D(24,5,5, border_mode='same', subsample=(2,2), activation=\"relu\"))\n",
    "model.add(MaxPooling2D(pool_size=(2, 2), strides=(2, 2)))\n",
    "model.add(Convolution2D(36,5,5, border_mode='same', subsample=(2,2), activation=\"relu\"))\n",
    "model.add(MaxPooling2D(pool_size=(2, 2), strides=(2, 2)))\n",
    "model.add(Convolution2D(48,5,5, border_mode='same', subsample=(2,2), activation=\"relu\"))\n",
    "model.add(MaxPooling2D(pool_size=(2, 2), strides=(2, 2)))\n",
    "model.add(Convolution2D(64,3,3, border_mode='same', subsample=(1,1), activation=\"relu\"))\n",
    "\n",
    "model.add(Convolution2D(64,3,3, border_mode='same', subsample=(1,1),  activation=\"relu\"))\n",
    "model.add(Dropout(0.5))\n",
    "model.add(Flatten())\n",
    "model.add(Dense(100))\n",
    "\n",
    "model.add(Dense(50))\n",
    "\n",
    "model.add(Dense(10))\n",
    "\n",
    "model.add(Dense(1))\n",
    "\n",
    "#opt = optimizers.SGD(lr=0.01, decay=1e-6, momentum=0.9, nesterov=True)\n",
    "model.summary()\n",
    "model.compile(loss='mse',optimizer=optimizers.Adam(lr=0.0001))\n",
    "\n"
   ]
  },
  {
   "cell_type": "code",
   "execution_count": 10,
   "metadata": {
    "colab": {
     "autoexec": {
      "startup": false,
      "wait_interval": 0
     },
     "base_uri": "https://localhost:8080/",
     "height": 156,
     "output_extras": [
      {
       "item_id": 1
      },
      {
       "item_id": 2
      },
      {
       "item_id": 185
      }
     ]
    },
    "colab_type": "code",
    "id": "7QUCyT3Jawr_",
    "outputId": "31ce8210-74bf-4b2c-ffab-2179eeb1d32d",
    "scrolled": true
   },
   "outputs": [
    {
     "name": "stdout",
     "output_type": "stream",
     "text": [
      "Training model...\n",
      "Epoch 1/4\n",
      "27648/28000 [============================>.] - ETA: 0s - loss: 0.0355"
     ]
    },
    {
     "name": "stderr",
     "output_type": "stream",
     "text": [
      "/home/carnd/anaconda3/envs/carnd-term1/lib/python3.5/site-packages/keras/engine/training.py:1569: UserWarning: Epoch comprised more than `samples_per_epoch` samples, which might affect learning results. Set `samples_per_epoch` correctly to avoid this warning.\n",
      "  warnings.warn('Epoch comprised more than '\n"
     ]
    },
    {
     "name": "stdout",
     "output_type": "stream",
     "text": [
      "28032/28000 [==============================] - 40s - loss: 0.0355 - val_loss: 0.0361\n",
      "Epoch 2/4\n",
      "28032/28000 [==============================] - 38s - loss: 0.0316 - val_loss: 0.0224\n",
      "Epoch 3/4\n",
      "28206/28000 [==============================] - 38s - loss: 0.0304 - val_loss: 0.0331\n",
      "Epoch 4/4\n",
      "28032/28000 [==============================] - 38s - loss: 0.0297 - val_loss: 0.0310\n"
     ]
    },
    {
     "data": {
      "text/plain": [
       "<keras.callbacks.History at 0x7f7ae3e0e9b0>"
      ]
     },
     "execution_count": 10,
     "metadata": {},
     "output_type": "execute_result"
    }
   ],
   "source": [
    "print('Training model...')\n",
    "training_generator = generate_samples(TRAINING_DATA, batch_size = BATCH_SIZE)\n",
    "validation_generator = generate_samples(VALIDATION_DATA, batch_size = BATCH_SIZE)\n",
    "model.fit_generator(training_generator,\n",
    "#                     TOTAL_TRAIN_DATA\n",
    "                 samples_per_epoch = 28000,\n",
    "                 validation_data = validation_generator,\n",
    "                 nb_val_samples = TOTAL_VALID_DATA,\n",
    "                 nb_epoch = NUMBER_OF_EPOCHS,\n",
    "                 verbose = 1)"
   ]
  },
  {
   "cell_type": "code",
   "execution_count": 11,
   "metadata": {
    "colab": {
     "autoexec": {
      "startup": false,
      "wait_interval": 0
     }
    },
    "colab_type": "code",
    "id": "-7Ohf7Fca6iV"
   },
   "outputs": [
    {
     "name": "stdout",
     "output_type": "stream",
     "text": [
      "Saving model...\n",
      "Model Saved.\n"
     ]
    }
   ],
   "source": [
    "print('Saving model...')\n",
    "model.save(\"model19.h5\")\n",
    "print(\"Model Saved.\")"
   ]
  }
 ],
 "metadata": {
  "accelerator": "GPU",
  "colab": {
   "collapsed_sections": [],
   "default_view": {},
   "name": "Untitled1.ipynb",
   "provenance": [],
   "version": "0.3.2",
   "views": {}
  },
  "kernelspec": {
   "display_name": "Python 3",
   "language": "python",
   "name": "python3"
  },
  "language_info": {
   "codemirror_mode": {
    "name": "ipython",
    "version": 3
   },
   "file_extension": ".py",
   "mimetype": "text/x-python",
   "name": "python",
   "nbconvert_exporter": "python",
   "pygments_lexer": "ipython3",
   "version": "3.5.2"
  },
  "widgets": {
   "state": {},
   "version": "1.1.2"
  }
 },
 "nbformat": 4,
 "nbformat_minor": 1
}
